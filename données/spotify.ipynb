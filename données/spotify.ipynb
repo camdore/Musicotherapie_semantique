{
 "cells": [
  {
   "attachments": {},
   "cell_type": "markdown",
   "metadata": {},
   "source": [
    "On va essayer de faire marcher l'api spotify.\n"
   ]
  },
  {
   "cell_type": "code",
   "execution_count": 94,
   "metadata": {},
   "outputs": [],
   "source": [
    "import spotipy\n",
    "import pandas as pd\n",
    "import requests\n",
    "from spotipy.oauth2 import SpotifyClientCredentials"
   ]
  },
  {
   "cell_type": "code",
   "execution_count": 105,
   "metadata": {},
   "outputs": [],
   "source": [
    "#\n",
    "SPOTIFY_CLIENT_ID=\"4ec88fe1ae464b4a9344a2700c06e93a\"   \n",
    "SPOTIFY_SECRET_CLIENT_ID=\"0b674d20c05447e0a2098b4de70789d3\"\n",
    "\n",
    "API_KEY = \"b62fc256552a9dfdae35aa99a527cd70\"\n",
    "BASE_URL = \"http://ws.audioscrobbler.com/2.0/\""
   ]
  },
  {
   "cell_type": "code",
   "execution_count": 106,
   "metadata": {},
   "outputs": [],
   "source": [
    "sp = spotipy.Spotify(auth_manager=SpotifyClientCredentials(client_id=SPOTIFY_CLIENT_ID,\n",
    "                                                           client_secret=SPOTIFY_SECRET_CLIENT_ID))"
   ]
  },
  {
   "cell_type": "code",
   "execution_count": 114,
   "metadata": {},
   "outputs": [
    {
     "data": {
      "text/html": [
       "<div>\n",
       "<style scoped>\n",
       "    .dataframe tbody tr th:only-of-type {\n",
       "        vertical-align: middle;\n",
       "    }\n",
       "\n",
       "    .dataframe tbody tr th {\n",
       "        vertical-align: top;\n",
       "    }\n",
       "\n",
       "    .dataframe thead th {\n",
       "        text-align: right;\n",
       "    }\n",
       "</style>\n",
       "<table border=\"1\" class=\"dataframe\">\n",
       "  <thead>\n",
       "    <tr style=\"text-align: right;\">\n",
       "      <th></th>\n",
       "      <th>mood</th>\n",
       "      <th>url</th>\n",
       "    </tr>\n",
       "  </thead>\n",
       "  <tbody>\n",
       "    <tr>\n",
       "      <th>0</th>\n",
       "      <td>sad</td>\n",
       "      <td>https://open.spotify.com/playlist/37i9dQZF1DX0...</td>\n",
       "    </tr>\n",
       "    <tr>\n",
       "      <th>1</th>\n",
       "      <td>sad</td>\n",
       "      <td>https://open.spotify.com/playlist/6nxPNnmSE0d5...</td>\n",
       "    </tr>\n",
       "    <tr>\n",
       "      <th>2</th>\n",
       "      <td>sad</td>\n",
       "      <td>https://open.spotify.com/playlist/3c0Nv5CY6TIa...</td>\n",
       "    </tr>\n",
       "    <tr>\n",
       "      <th>3</th>\n",
       "      <td>happy</td>\n",
       "      <td>https://open.spotify.com/playlist/37i9dQZF1DXd...</td>\n",
       "    </tr>\n",
       "    <tr>\n",
       "      <th>4</th>\n",
       "      <td>happy</td>\n",
       "      <td>https://open.spotify.com/playlist/37i9dQZF1DWZ...</td>\n",
       "    </tr>\n",
       "  </tbody>\n",
       "</table>\n",
       "</div>"
      ],
      "text/plain": [
       "    mood                                                url\n",
       "0    sad  https://open.spotify.com/playlist/37i9dQZF1DX0...\n",
       "1    sad  https://open.spotify.com/playlist/6nxPNnmSE0d5...\n",
       "2    sad  https://open.spotify.com/playlist/3c0Nv5CY6TIa...\n",
       "3  happy  https://open.spotify.com/playlist/37i9dQZF1DXd...\n",
       "4  happy  https://open.spotify.com/playlist/37i9dQZF1DWZ..."
      ]
     },
     "execution_count": 114,
     "metadata": {},
     "output_type": "execute_result"
    }
   ],
   "source": [
    "# Chargement playlists csv\n",
    "df_playlists = pd.read_csv(\"spotify.csv\")\n",
    "df_playlists.head()"
   ]
  },
  {
   "cell_type": "code",
   "execution_count": 115,
   "metadata": {},
   "outputs": [],
   "source": [
    "# DataFrame avec toutes les données\n",
    "df_songs = pd.DataFrame(columns=[\"emotion\", \"song_id\", \"song_name\", \"artist_name\", \"album_name\",\"genre\", \"release_date\", \"danceability\", \"energy\", \"key\", \"loudness\", \"mode\", \"speechiness\", \"acousticness\", \"instrumentalness\", \"liveness\", \"valence\", \"tempo\", \"duration_ms\", \"time_signature\"])"
   ]
  },
  {
   "cell_type": "code",
   "execution_count": 116,
   "metadata": {},
   "outputs": [
    {
     "name": "stdout",
     "output_type": "stream",
     "text": [
      "0\n",
      "1\n",
      "2\n",
      "3\n",
      "4\n",
      "5\n",
      "6\n",
      "7\n",
      "8\n",
      "9\n",
      "10\n",
      "11\n",
      "12\n",
      "13\n",
      "14\n",
      "15\n",
      "16\n",
      "17\n",
      "18\n",
      "19\n",
      "20\n",
      "21\n",
      "22\n",
      "23\n",
      "24\n",
      "25\n",
      "26\n",
      "27\n",
      "28\n",
      "29\n",
      "30\n",
      "31\n",
      "32\n",
      "33\n",
      "34\n"
     ]
    }
   ],
   "source": [
    "for index, row in df_playlists.iterrows():\n",
    "    print(index)\n",
    "    emotion = row[\"mood\"]\n",
    "    playlist_id = row[\"url\"][34:56]\n",
    "\n",
    "    tracks = sp.playlist_tracks(playlist_id)[\"items\"]\n",
    "    for track in tracks:\n",
    "        song_id = track[\"track\"][\"id\"]\n",
    "        song_name = track[\"track\"][\"name\"]\n",
    "        artist_name = track[\"track\"][\"artists\"][0][\"name\"]\n",
    "        album_name = track[\"track\"][\"album\"][\"name\"]\n",
    "        artist_genre = sp.artist(track['track']['artists'][0]['id'])\n",
    "        endpoint = BASE_URL + \"?method=track.getInfo\" + \"&api_key=\" + API_KEY + \"&artist=\" + artist_name + \"&track=\" + song_name + \"&format=json\"\n",
    "        response = requests.get(endpoint)\n",
    "        song_tags = response.json()\n",
    "        if len(song_tags.keys()) != 1 :\n",
    "            genre = []\n",
    "        else: \n",
    "            song_tags = song_tags['track']['toptags']['tag']\n",
    "            list_genre = [i['name'] for i in song_tags]\n",
    "            genre = list(set(artist_genre['genres'])&set(list_genre))\n",
    "        release_date = track[\"track\"][\"album\"][\"release_date\"]\n",
    "\n",
    "        track_features = sp.audio_features(song_id)[0]\n",
    "\n",
    "        df_songs.loc[len(df_songs)] = [emotion, \n",
    "                                       song_id, \n",
    "                                       song_name, \n",
    "                                       artist_name, \n",
    "                                       album_name,\n",
    "                                       genre, \n",
    "                                       release_date, \n",
    "                                       track_features[\"danceability\"], \n",
    "                                       track_features[\"energy\"], \n",
    "                                       track_features[\"key\"], \n",
    "                                       track_features[\"loudness\"], \n",
    "                                       track_features[\"mode\"], \n",
    "                                       track_features[\"speechiness\"], \n",
    "                                       track_features[\"acousticness\"], \n",
    "                                       track_features[\"instrumentalness\"], \n",
    "                                       track_features[\"liveness\"], \n",
    "                                       track_features[\"valence\"], \n",
    "                                       track_features[\"tempo\"], \n",
    "                                       track_features[\"duration_ms\"], \n",
    "                                       track_features[\"time_signature\"]]\n",
    "\n",
    "# décommenter pr enregistrer en csv, c'était pr tester\n",
    "df_songs.to_csv(\"informations_chansons.csv\", index=False)\n"
   ]
  },
  {
   "cell_type": "code",
   "execution_count": 128,
   "metadata": {},
   "outputs": [
    {
     "data": {
      "text/html": [
       "<div>\n",
       "<style scoped>\n",
       "    .dataframe tbody tr th:only-of-type {\n",
       "        vertical-align: middle;\n",
       "    }\n",
       "\n",
       "    .dataframe tbody tr th {\n",
       "        vertical-align: top;\n",
       "    }\n",
       "\n",
       "    .dataframe thead th {\n",
       "        text-align: right;\n",
       "    }\n",
       "</style>\n",
       "<table border=\"1\" class=\"dataframe\">\n",
       "  <thead>\n",
       "    <tr style=\"text-align: right;\">\n",
       "      <th></th>\n",
       "      <th>emotion</th>\n",
       "      <th>song_id</th>\n",
       "      <th>song_name</th>\n",
       "      <th>artist_name</th>\n",
       "      <th>album_name</th>\n",
       "      <th>genre</th>\n",
       "      <th>release_date</th>\n",
       "      <th>danceability</th>\n",
       "      <th>energy</th>\n",
       "      <th>key</th>\n",
       "      <th>loudness</th>\n",
       "      <th>mode</th>\n",
       "      <th>speechiness</th>\n",
       "      <th>acousticness</th>\n",
       "      <th>instrumentalness</th>\n",
       "      <th>liveness</th>\n",
       "      <th>valence</th>\n",
       "      <th>tempo</th>\n",
       "      <th>duration_ms</th>\n",
       "      <th>time_signature</th>\n",
       "    </tr>\n",
       "  </thead>\n",
       "  <tbody>\n",
       "    <tr>\n",
       "      <th>0</th>\n",
       "      <td>sad</td>\n",
       "      <td>0qFZubf0FS0xxropyslwYJ</td>\n",
       "      <td>Sally</td>\n",
       "      <td>gigi</td>\n",
       "      <td>Sally</td>\n",
       "      <td>[]</td>\n",
       "      <td>2023-03-10</td>\n",
       "      <td>0.569</td>\n",
       "      <td>0.320</td>\n",
       "      <td>1</td>\n",
       "      <td>-9.902</td>\n",
       "      <td>1</td>\n",
       "      <td>0.0386</td>\n",
       "      <td>0.520</td>\n",
       "      <td>0.000000</td>\n",
       "      <td>0.4110</td>\n",
       "      <td>0.2690</td>\n",
       "      <td>122.851</td>\n",
       "      <td>273936</td>\n",
       "      <td>3</td>\n",
       "    </tr>\n",
       "    <tr>\n",
       "      <th>1</th>\n",
       "      <td>sad</td>\n",
       "      <td>3MlEryrxCKZkcfX18ZLX96</td>\n",
       "      <td>Candy Necklace (feat. Jon Batiste)</td>\n",
       "      <td>Lana Del Rey</td>\n",
       "      <td>Did you know that there's a tunnel under Ocean...</td>\n",
       "      <td>[art pop, pop]</td>\n",
       "      <td>2023-03-24</td>\n",
       "      <td>0.343</td>\n",
       "      <td>0.142</td>\n",
       "      <td>11</td>\n",
       "      <td>-16.432</td>\n",
       "      <td>0</td>\n",
       "      <td>0.0395</td>\n",
       "      <td>0.871</td>\n",
       "      <td>0.010300</td>\n",
       "      <td>0.0915</td>\n",
       "      <td>0.0799</td>\n",
       "      <td>116.295</td>\n",
       "      <td>314520</td>\n",
       "      <td>4</td>\n",
       "    </tr>\n",
       "    <tr>\n",
       "      <th>2</th>\n",
       "      <td>sad</td>\n",
       "      <td>7dISpxgINJOQSuXUTEfB9x</td>\n",
       "      <td>Secret</td>\n",
       "      <td>Louane</td>\n",
       "      <td>Sentiments</td>\n",
       "      <td>[]</td>\n",
       "      <td>2022-12-09</td>\n",
       "      <td>0.643</td>\n",
       "      <td>0.276</td>\n",
       "      <td>5</td>\n",
       "      <td>-8.481</td>\n",
       "      <td>0</td>\n",
       "      <td>0.0596</td>\n",
       "      <td>0.901</td>\n",
       "      <td>0.000000</td>\n",
       "      <td>0.1140</td>\n",
       "      <td>0.2130</td>\n",
       "      <td>149.503</td>\n",
       "      <td>191173</td>\n",
       "      <td>4</td>\n",
       "    </tr>\n",
       "    <tr>\n",
       "      <th>3</th>\n",
       "      <td>sad</td>\n",
       "      <td>1CS7Sd1u5tWkstBhpssyjP</td>\n",
       "      <td>Take Me to Church</td>\n",
       "      <td>Hozier</td>\n",
       "      <td>Hozier (Expanded Edition)</td>\n",
       "      <td>[]</td>\n",
       "      <td>2014-09-19</td>\n",
       "      <td>0.566</td>\n",
       "      <td>0.664</td>\n",
       "      <td>4</td>\n",
       "      <td>-5.303</td>\n",
       "      <td>0</td>\n",
       "      <td>0.0464</td>\n",
       "      <td>0.634</td>\n",
       "      <td>0.000000</td>\n",
       "      <td>0.1160</td>\n",
       "      <td>0.4370</td>\n",
       "      <td>128.945</td>\n",
       "      <td>241693</td>\n",
       "      <td>4</td>\n",
       "    </tr>\n",
       "    <tr>\n",
       "      <th>4</th>\n",
       "      <td>sad</td>\n",
       "      <td>2nC3QhMI9reBIOWutbU3Tj</td>\n",
       "      <td>Moral of the Story</td>\n",
       "      <td>Ashe</td>\n",
       "      <td>Moral of the Story</td>\n",
       "      <td>[]</td>\n",
       "      <td>2019-02-14</td>\n",
       "      <td>0.572</td>\n",
       "      <td>0.406</td>\n",
       "      <td>10</td>\n",
       "      <td>-8.624</td>\n",
       "      <td>1</td>\n",
       "      <td>0.0427</td>\n",
       "      <td>0.587</td>\n",
       "      <td>0.000004</td>\n",
       "      <td>0.1020</td>\n",
       "      <td>0.2650</td>\n",
       "      <td>119.812</td>\n",
       "      <td>201084</td>\n",
       "      <td>4</td>\n",
       "    </tr>\n",
       "  </tbody>\n",
       "</table>\n",
       "</div>"
      ],
      "text/plain": [
       "  emotion                 song_id                           song_name  \\\n",
       "0     sad  0qFZubf0FS0xxropyslwYJ                               Sally   \n",
       "1     sad  3MlEryrxCKZkcfX18ZLX96  Candy Necklace (feat. Jon Batiste)   \n",
       "2     sad  7dISpxgINJOQSuXUTEfB9x                              Secret   \n",
       "3     sad  1CS7Sd1u5tWkstBhpssyjP                   Take Me to Church   \n",
       "4     sad  2nC3QhMI9reBIOWutbU3Tj                  Moral of the Story   \n",
       "\n",
       "    artist_name                                         album_name  \\\n",
       "0          gigi                                              Sally   \n",
       "1  Lana Del Rey  Did you know that there's a tunnel under Ocean...   \n",
       "2        Louane                                         Sentiments   \n",
       "3        Hozier                          Hozier (Expanded Edition)   \n",
       "4          Ashe                                 Moral of the Story   \n",
       "\n",
       "            genre release_date  danceability  energy  key  loudness  mode  \\\n",
       "0              []   2023-03-10         0.569   0.320    1    -9.902     1   \n",
       "1  [art pop, pop]   2023-03-24         0.343   0.142   11   -16.432     0   \n",
       "2              []   2022-12-09         0.643   0.276    5    -8.481     0   \n",
       "3              []   2014-09-19         0.566   0.664    4    -5.303     0   \n",
       "4              []   2019-02-14         0.572   0.406   10    -8.624     1   \n",
       "\n",
       "   speechiness  acousticness  instrumentalness  liveness  valence    tempo  \\\n",
       "0       0.0386         0.520          0.000000    0.4110   0.2690  122.851   \n",
       "1       0.0395         0.871          0.010300    0.0915   0.0799  116.295   \n",
       "2       0.0596         0.901          0.000000    0.1140   0.2130  149.503   \n",
       "3       0.0464         0.634          0.000000    0.1160   0.4370  128.945   \n",
       "4       0.0427         0.587          0.000004    0.1020   0.2650  119.812   \n",
       "\n",
       "   duration_ms  time_signature  \n",
       "0       273936               3  \n",
       "1       314520               4  \n",
       "2       191173               4  \n",
       "3       241693               4  \n",
       "4       201084               4  "
      ]
     },
     "execution_count": 128,
     "metadata": {},
     "output_type": "execute_result"
    }
   ],
   "source": [
    "df_songs.head()"
   ]
  },
  {
   "cell_type": "code",
   "execution_count": 130,
   "metadata": {},
   "outputs": [
    {
     "data": {
      "text/plain": [
       "[]                              2077\n",
       "[pop]                            692\n",
       "[rock]                            38\n",
       "[rap]                             20\n",
       "[hip hop, rap]                    20\n",
       "                                ... \n",
       "[trap, rap]                        1\n",
       "[tropical house, electropop]       1\n",
       "[indie pop, indie rock]            1\n",
       "[ambient]                          1\n",
       "[latin pop]                        1\n",
       "Name: genre, Length: 76, dtype: int64"
      ]
     },
     "execution_count": 130,
     "metadata": {},
     "output_type": "execute_result"
    }
   ],
   "source": [
    "df_songs['genre'].value_counts()"
   ]
  },
  {
   "attachments": {},
   "cell_type": "markdown",
   "metadata": {},
   "source": [
    "-------------------------------------------------\n",
    "A partir de la c'est des tests\n",
    "-------------------------------------------------"
   ]
  },
  {
   "cell_type": "code",
   "execution_count": 36,
   "metadata": {},
   "outputs": [
    {
     "data": {
      "text/plain": [
       "{'external_urls': {'spotify': 'https://open.spotify.com/artist/5WUlDfRSoLAfcVSX1WnrxN'},\n",
       " 'followers': {'href': None, 'total': 25914388},\n",
       " 'genres': ['australian dance', 'australian pop', 'dance pop', 'pop'],\n",
       " 'href': 'https://api.spotify.com/v1/artists/5WUlDfRSoLAfcVSX1WnrxN',\n",
       " 'id': '5WUlDfRSoLAfcVSX1WnrxN',\n",
       " 'images': [{'height': 640,\n",
       "   'url': 'https://i.scdn.co/image/ab6761610000e5ebec40474426f4401a4203dc9f',\n",
       "   'width': 640},\n",
       "  {'height': 320,\n",
       "   'url': 'https://i.scdn.co/image/ab67616100005174ec40474426f4401a4203dc9f',\n",
       "   'width': 320},\n",
       "  {'height': 160,\n",
       "   'url': 'https://i.scdn.co/image/ab6761610000f178ec40474426f4401a4203dc9f',\n",
       "   'width': 160}],\n",
       " 'name': 'Sia',\n",
       " 'popularity': 86,\n",
       " 'type': 'artist',\n",
       " 'uri': 'spotify:artist:5WUlDfRSoLAfcVSX1WnrxN'}"
      ]
     },
     "execution_count": 36,
     "metadata": {},
     "output_type": "execute_result"
    }
   ],
   "source": [
    "req = sp.track(\"2Bo0hh0yoQReC4reJav5DT\")\n",
    "req2 = sp.artist(req['artists'][0]['id'])\n",
    "req2"
   ]
  },
  {
   "cell_type": "code",
   "execution_count": 35,
   "metadata": {},
   "outputs": [
    {
     "name": "stdout",
     "output_type": "stream",
     "text": [
      "3685\n"
     ]
    },
    {
     "data": {
      "text/plain": [
       "3685"
      ]
     },
     "execution_count": 35,
     "metadata": {},
     "output_type": "execute_result"
    }
   ],
   "source": [
    "infos = pd.read_csv('informations_chansons.csv')\n",
    "print(len(infos))\n",
    "(infos['album_genre'] == '[]').sum()"
   ]
  },
  {
   "cell_type": "code",
   "execution_count": 88,
   "metadata": {},
   "outputs": [],
   "source": [
    "# Titre et artiste de la chanson à rechercher\n",
    "titre = \"Bohemian Rhapsody\"\n",
    "artiste = \"Queen\"\n",
    "\n",
    "# Endpoint pour récupérer les informations sur une chanson\n",
    "endpoint = BASE_URL + \"?method=track.getInfo\" + \"&api_key=\" + API_KEY + \"&artist=\" + artiste + \"&track=\" + titre + \"&format=json\""
   ]
  },
  {
   "cell_type": "code",
   "execution_count": 89,
   "metadata": {},
   "outputs": [],
   "source": [
    "response = requests.get(endpoint)"
   ]
  },
  {
   "cell_type": "code",
   "execution_count": 90,
   "metadata": {},
   "outputs": [
    {
     "data": {
      "text/plain": [
       "dict_keys(['track'])"
      ]
     },
     "execution_count": 90,
     "metadata": {},
     "output_type": "execute_result"
    }
   ],
   "source": [
    "response.json().keys()"
   ]
  },
  {
   "cell_type": "code",
   "execution_count": 72,
   "metadata": {},
   "outputs": [
    {
     "data": {
      "text/plain": [
       "dict_keys(['error', 'message', 'links'])"
      ]
     },
     "execution_count": 72,
     "metadata": {},
     "output_type": "execute_result"
    }
   ],
   "source": [
    "response.json().keys()"
   ]
  },
  {
   "cell_type": "code",
   "execution_count": 42,
   "metadata": {},
   "outputs": [
    {
     "name": "stdout",
     "output_type": "stream",
     "text": [
      "Genres de la chanson Bohemian Rhapsody par Queen :\n",
      "-  classic rock\n",
      "-  rock\n",
      "-  Queen\n",
      "-  70s\n",
      "-  80s\n"
     ]
    }
   ],
   "source": [
    "# Envoi de la requête à l'API\n",
    "\n",
    "\n",
    "# Analyse de la réponse JSON\n",
    "data = response\n",
    "genres = data[\"track\"][\"toptags\"][\"tag\"]\n",
    "\n",
    "# Affichage des genres associés à la chanson\n",
    "print(\"Genres de la chanson\", titre, \"par\", artiste, \":\")\n",
    "for genre in genres:\n",
    "    print(\"- \", genre[\"name\"])"
   ]
  },
  {
   "cell_type": "code",
   "execution_count": null,
   "metadata": {},
   "outputs": [],
   "source": []
  }
 ],
 "metadata": {
  "kernelspec": {
   "display_name": "Python 3",
   "language": "python",
   "name": "python3"
  },
  "language_info": {
   "codemirror_mode": {
    "name": "ipython",
    "version": 3
   },
   "file_extension": ".py",
   "mimetype": "text/x-python",
   "name": "python",
   "nbconvert_exporter": "python",
   "pygments_lexer": "ipython3",
   "version": "3.11.2"
  },
  "orig_nbformat": 4
 },
 "nbformat": 4,
 "nbformat_minor": 2
}
